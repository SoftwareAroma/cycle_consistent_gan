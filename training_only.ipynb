{
  "nbformat": 4,
  "nbformat_minor": 0,
  "metadata": {
    "colab": {
      "provenance": []
    },
    "kernelspec": {
      "name": "python3",
      "display_name": "Python 3"
    },
    "language_info": {
      "name": "python"
    }
  },
  "cells": [
    {
      "cell_type": "code",
      "execution_count": 1,
      "metadata": {
        "id": "h6tZNYvyUjrm"
      },
      "outputs": [],
      "source": [
        "# no need to import anything, load the current folder and its content to google drive\n",
        "# then mount the drive to colab and set the working directory to the directory where this folder is location\n",
        "# you can confirm by printing the current working directory and the run the main.py file from on of the cells"
      ]
    },
    {
      "cell_type": "code",
      "source": [
        "# for Google Colab\n",
        "from google.colab import drive\n",
        "drive.mount('/content/drive')\n"
      ],
      "metadata": {
        "colab": {
          "base_uri": "https://localhost:8080/"
        },
        "id": "vNztwT2HUoLP",
        "outputId": "fa5de364-bd25-4685-db93-9f6b97489f85"
      },
      "execution_count": 2,
      "outputs": [
        {
          "output_type": "stream",
          "name": "stdout",
          "text": [
            "Drive already mounted at /content/drive; to attempt to forcibly remount, call drive.mount(\"/content/drive\", force_remount=True).\n"
          ]
        }
      ]
    },
    {
      "cell_type": "code",
      "source": [
        "!pwd"
      ],
      "metadata": {
        "colab": {
          "base_uri": "https://localhost:8080/"
        },
        "id": "HWzqHEMMUq0M",
        "outputId": "9d4b37d8-34c7-4e99-9f0e-34a9111cacea"
      },
      "execution_count": 3,
      "outputs": [
        {
          "output_type": "stream",
          "name": "stdout",
          "text": [
            "/content\n"
          ]
        }
      ]
    },
    {
      "cell_type": "code",
      "source": [
        "!ls"
      ],
      "metadata": {
        "colab": {
          "base_uri": "https://localhost:8080/"
        },
        "id": "s049nQwBU-YN",
        "outputId": "cff555ef-4ade-4b6f-edb7-66ca0aeb8554"
      },
      "execution_count": 4,
      "outputs": [
        {
          "output_type": "stream",
          "name": "stdout",
          "text": [
            "drive  sample_data\n"
          ]
        }
      ]
    },
    {
      "cell_type": "code",
      "source": [
        "!python run main.py"
      ],
      "metadata": {
        "id": "W4nYXX9PU_e9"
      },
      "execution_count": null,
      "outputs": []
    }
  ]
}