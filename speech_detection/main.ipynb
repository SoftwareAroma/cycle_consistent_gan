{
 "cells": [
  {
   "cell_type": "code",
   "execution_count": 2,
   "id": "initial_id",
   "metadata": {
    "collapsed": true,
    "ExecuteTime": {
     "end_time": "2023-09-12T18:42:19.618919200Z",
     "start_time": "2023-09-12T18:42:08.471422800Z"
    }
   },
   "outputs": [],
   "source": [
    "import os\n",
    "import torch\n",
    "from torch import nn\n",
    "import librosa\n",
    "import numpy as np\n",
    "import matplotlib.pyplot as plt\n",
    "import pandas as pd\n",
    "import tensorflow as tf \n",
    "\n",
    "%matplotlib inline\n"
   ]
  },
  {
   "cell_type": "code",
   "execution_count": 3,
   "outputs": [],
   "source": [
    "audio_directory = './data/recordings/recordings/'\n",
    "data_list = []"
   ],
   "metadata": {
    "collapsed": false,
    "ExecuteTime": {
     "end_time": "2023-09-12T18:42:19.627836100Z",
     "start_time": "2023-09-12T18:42:19.622318400Z"
    }
   },
   "id": "25c2e4e0d583260a"
  },
  {
   "cell_type": "code",
   "execution_count": 4,
   "outputs": [
    {
     "data": {
      "text/plain": "    age  age_onset              birthplace  filename native_language   sex  \\\n0  24.0       12.0         koussi, senegal   balanta         balanta  male   \n1  18.0       10.0          buea, cameroon  cameroon        cameroon  male   \n2  48.0        8.0  hong, adamawa, nigeria  fulfulde        fulfulde  male   \n3  42.0       42.0   port-au-prince, haiti   haitian         haitian  male   \n4  40.0       35.0   port-au-prince, haiti   haitian         haitian  male   \n\n   speakerid   country  file_missing?  Unnamed: 9  Unnamed: 10 Unnamed: 11  \n0        788   senegal           True         NaN          NaN         NaN  \n1       1953  cameroon           True         NaN          NaN         NaN  \n2       1037   nigeria           True         NaN          NaN         NaN  \n3       1165     haiti           True         NaN          NaN         NaN  \n4       1166     haiti           True         NaN          NaN         NaN  ",
      "text/html": "<div>\n<style scoped>\n    .dataframe tbody tr th:only-of-type {\n        vertical-align: middle;\n    }\n\n    .dataframe tbody tr th {\n        vertical-align: top;\n    }\n\n    .dataframe thead th {\n        text-align: right;\n    }\n</style>\n<table border=\"1\" class=\"dataframe\">\n  <thead>\n    <tr style=\"text-align: right;\">\n      <th></th>\n      <th>age</th>\n      <th>age_onset</th>\n      <th>birthplace</th>\n      <th>filename</th>\n      <th>native_language</th>\n      <th>sex</th>\n      <th>speakerid</th>\n      <th>country</th>\n      <th>file_missing?</th>\n      <th>Unnamed: 9</th>\n      <th>Unnamed: 10</th>\n      <th>Unnamed: 11</th>\n    </tr>\n  </thead>\n  <tbody>\n    <tr>\n      <th>0</th>\n      <td>24.0</td>\n      <td>12.0</td>\n      <td>koussi, senegal</td>\n      <td>balanta</td>\n      <td>balanta</td>\n      <td>male</td>\n      <td>788</td>\n      <td>senegal</td>\n      <td>True</td>\n      <td>NaN</td>\n      <td>NaN</td>\n      <td>NaN</td>\n    </tr>\n    <tr>\n      <th>1</th>\n      <td>18.0</td>\n      <td>10.0</td>\n      <td>buea, cameroon</td>\n      <td>cameroon</td>\n      <td>cameroon</td>\n      <td>male</td>\n      <td>1953</td>\n      <td>cameroon</td>\n      <td>True</td>\n      <td>NaN</td>\n      <td>NaN</td>\n      <td>NaN</td>\n    </tr>\n    <tr>\n      <th>2</th>\n      <td>48.0</td>\n      <td>8.0</td>\n      <td>hong, adamawa, nigeria</td>\n      <td>fulfulde</td>\n      <td>fulfulde</td>\n      <td>male</td>\n      <td>1037</td>\n      <td>nigeria</td>\n      <td>True</td>\n      <td>NaN</td>\n      <td>NaN</td>\n      <td>NaN</td>\n    </tr>\n    <tr>\n      <th>3</th>\n      <td>42.0</td>\n      <td>42.0</td>\n      <td>port-au-prince, haiti</td>\n      <td>haitian</td>\n      <td>haitian</td>\n      <td>male</td>\n      <td>1165</td>\n      <td>haiti</td>\n      <td>True</td>\n      <td>NaN</td>\n      <td>NaN</td>\n      <td>NaN</td>\n    </tr>\n    <tr>\n      <th>4</th>\n      <td>40.0</td>\n      <td>35.0</td>\n      <td>port-au-prince, haiti</td>\n      <td>haitian</td>\n      <td>haitian</td>\n      <td>male</td>\n      <td>1166</td>\n      <td>haiti</td>\n      <td>True</td>\n      <td>NaN</td>\n      <td>NaN</td>\n      <td>NaN</td>\n    </tr>\n  </tbody>\n</table>\n</div>"
     },
     "execution_count": 4,
     "metadata": {},
     "output_type": "execute_result"
    }
   ],
   "source": [
    "# load the csv data\n",
    "data_csv = pd.read_csv('./data/speakers_all.csv')\n",
    "data_csv.head()\n"
   ],
   "metadata": {
    "collapsed": false,
    "ExecuteTime": {
     "end_time": "2023-09-12T18:42:19.780929700Z",
     "start_time": "2023-09-12T18:42:19.627836100Z"
    }
   },
   "id": "5e9a37bb77e61cdd"
  },
  {
   "cell_type": "code",
   "execution_count": 5,
   "outputs": [
    {
     "name": "stdout",
     "output_type": "stream",
     "text": [
      "File not found for row 0: balanta\n",
      "File not found for row 1: cameroon\n",
      "File not found for row 2: fulfulde\n",
      "File not found for row 3: haitian\n",
      "File not found for row 4: haitian\n",
      "File not found for row 5: haitian\n",
      "File not found for row 6: haitian\n",
      "File not found for row 7: haitian\n",
      "File not found for row 8: haitian\n",
      "File not found for row 9: hawai'i\n",
      "File not found for row 10: hawai'i\n",
      "File not found for row 11: jamaican\n",
      "File not found for row 12: jamaican\n",
      "File not found for row 13: jamaican\n",
      "File not found for row 14: liberian\n",
      "File not found for row 15: liberian\n",
      "File not found for row 16: nicaragua\n",
      "File not found for row 17: nicaragua\n",
      "File not found for row 18: nicaragua\n",
      "File not found for row 19: northern\n",
      "File not found for row 20: poonchi1\n",
      "File not found for row 21: sinhalese2\n",
      "File not found for row 22: sinhalese3\n",
      "File not found for row 23: sinhalese4\n",
      "File not found for row 24: sinhalese5\n",
      "File not found for row 25: swiss\n",
      "File not found for row 26: swiss\n",
      "File not found for row 27: swiss\n",
      "File not found for row 28: swiss\n",
      "File not found for row 29: swiss\n",
      "File not found for row 30: tetun-dili1\n",
      "File not found for row 31: tok\n",
      "File not found for row 1544: nicaragua\n",
      "File not found for row 1771: sinhalese1\n"
     ]
    }
   ],
   "source": [
    "for index, row in data_csv.iterrows():\n",
    "    filename = row['filename']\n",
    "    file_path = os.path.join(audio_directory, f'{filename}.mp3')  # Specify the directory path where your files are located\n",
    "    # print(f\"file path {file_path}\")\n",
    "    try:\n",
    "        with open(file_path, 'r', encoding='utf-8') as file:\n",
    "            # file_data = file.read()\n",
    "            data_list.append({\n",
    "                'age': row['age'],\n",
    "                'age_onset': row['age_onset'],\n",
    "                'birthplace': row['birthplace'],\n",
    "                'filename': filename,\n",
    "                'native_language': row['native_language'],\n",
    "                'sex': row['sex'], \n",
    "                'speakerid': row['speakerid'],\n",
    "                'country': row['country'],\n",
    "                'file_missing?': row['file_missing?'],\n",
    "                'file_data': file_path\n",
    "            })\n",
    "    except FileNotFoundError:\n",
    "        print(f\"File not found for row {index}: {filename}\")\n"
   ],
   "metadata": {
    "collapsed": false,
    "ExecuteTime": {
     "end_time": "2023-09-12T18:42:21.056605200Z",
     "start_time": "2023-09-12T18:42:19.779929300Z"
    }
   },
   "id": "d1b23e769d44f136"
  },
  {
   "cell_type": "code",
   "execution_count": 6,
   "outputs": [
    {
     "data": {
      "text/plain": "    age  age_onset                         birthplace    filename  \\\n0  27.0        9.0             virginia, south africa  afrikaans1   \n1  40.0        5.0             pretoria, south africa  afrikaans2   \n2  43.0        4.0  pretoria, transvaal, south africa  afrikaans3   \n3  26.0        8.0             pretoria, south africa  afrikaans4   \n4  19.0        6.0            cape town, south africa  afrikaans5   \n\n  native_language     sex  speakerid       country  file_missing?  \\\n0       afrikaans  female          1  south africa          False   \n1       afrikaans    male          2  south africa          False   \n2       afrikaans    male        418  south africa          False   \n3       afrikaans    male       1159  south africa          False   \n4       afrikaans    male       1432  south africa          False   \n\n                                     file_data  \n0  ./data/recordings/recordings/afrikaans1.mp3  \n1  ./data/recordings/recordings/afrikaans2.mp3  \n2  ./data/recordings/recordings/afrikaans3.mp3  \n3  ./data/recordings/recordings/afrikaans4.mp3  \n4  ./data/recordings/recordings/afrikaans5.mp3  ",
      "text/html": "<div>\n<style scoped>\n    .dataframe tbody tr th:only-of-type {\n        vertical-align: middle;\n    }\n\n    .dataframe tbody tr th {\n        vertical-align: top;\n    }\n\n    .dataframe thead th {\n        text-align: right;\n    }\n</style>\n<table border=\"1\" class=\"dataframe\">\n  <thead>\n    <tr style=\"text-align: right;\">\n      <th></th>\n      <th>age</th>\n      <th>age_onset</th>\n      <th>birthplace</th>\n      <th>filename</th>\n      <th>native_language</th>\n      <th>sex</th>\n      <th>speakerid</th>\n      <th>country</th>\n      <th>file_missing?</th>\n      <th>file_data</th>\n    </tr>\n  </thead>\n  <tbody>\n    <tr>\n      <th>0</th>\n      <td>27.0</td>\n      <td>9.0</td>\n      <td>virginia, south africa</td>\n      <td>afrikaans1</td>\n      <td>afrikaans</td>\n      <td>female</td>\n      <td>1</td>\n      <td>south africa</td>\n      <td>False</td>\n      <td>./data/recordings/recordings/afrikaans1.mp3</td>\n    </tr>\n    <tr>\n      <th>1</th>\n      <td>40.0</td>\n      <td>5.0</td>\n      <td>pretoria, south africa</td>\n      <td>afrikaans2</td>\n      <td>afrikaans</td>\n      <td>male</td>\n      <td>2</td>\n      <td>south africa</td>\n      <td>False</td>\n      <td>./data/recordings/recordings/afrikaans2.mp3</td>\n    </tr>\n    <tr>\n      <th>2</th>\n      <td>43.0</td>\n      <td>4.0</td>\n      <td>pretoria, transvaal, south africa</td>\n      <td>afrikaans3</td>\n      <td>afrikaans</td>\n      <td>male</td>\n      <td>418</td>\n      <td>south africa</td>\n      <td>False</td>\n      <td>./data/recordings/recordings/afrikaans3.mp3</td>\n    </tr>\n    <tr>\n      <th>3</th>\n      <td>26.0</td>\n      <td>8.0</td>\n      <td>pretoria, south africa</td>\n      <td>afrikaans4</td>\n      <td>afrikaans</td>\n      <td>male</td>\n      <td>1159</td>\n      <td>south africa</td>\n      <td>False</td>\n      <td>./data/recordings/recordings/afrikaans4.mp3</td>\n    </tr>\n    <tr>\n      <th>4</th>\n      <td>19.0</td>\n      <td>6.0</td>\n      <td>cape town, south africa</td>\n      <td>afrikaans5</td>\n      <td>afrikaans</td>\n      <td>male</td>\n      <td>1432</td>\n      <td>south africa</td>\n      <td>False</td>\n      <td>./data/recordings/recordings/afrikaans5.mp3</td>\n    </tr>\n  </tbody>\n</table>\n</div>"
     },
     "execution_count": 6,
     "metadata": {},
     "output_type": "execute_result"
    }
   ],
   "source": [
    "dataframe = pd.DataFrame(data_list)\n",
    "dataframe.head()"
   ],
   "metadata": {
    "collapsed": false,
    "ExecuteTime": {
     "end_time": "2023-09-12T18:42:21.086895600Z",
     "start_time": "2023-09-12T18:42:21.065602100Z"
    }
   },
   "id": "beb64c40b610640"
  }
 ],
 "metadata": {
  "kernelspec": {
   "display_name": "Python 3",
   "language": "python",
   "name": "python3"
  },
  "language_info": {
   "codemirror_mode": {
    "name": "ipython",
    "version": 2
   },
   "file_extension": ".py",
   "mimetype": "text/x-python",
   "name": "python",
   "nbconvert_exporter": "python",
   "pygments_lexer": "ipython2",
   "version": "2.7.6"
  }
 },
 "nbformat": 4,
 "nbformat_minor": 5
}
